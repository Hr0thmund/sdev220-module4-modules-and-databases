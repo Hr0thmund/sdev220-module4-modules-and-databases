{
 "cells": [
  {
   "cell_type": "code",
   "execution_count": null,
   "id": "3e6ae433-cbaf-48ff-aa00-4f9f95a7b836",
   "metadata": {},
   "outputs": [],
   "source": [
    "# Lee Fawkes\n",
    "# SDEV 220 - Andrew Emily\n",
    "# Module 4 Programming Assignment - Modules and Databases"
   ]
  },
  {
   "cell_type": "code",
   "execution_count": 24,
   "id": "10c12116-7f28-413e-ba0a-8122bcc7a830",
   "metadata": {},
   "outputs": [
    {
     "name": "stdout",
     "output_type": "stream",
     "text": [
      " Volume in drive C has no label.\n",
      " Volume Serial Number is 9863-FB27\n",
      "\n",
      " Directory of C:\\Users\\Volund\\Documents\\Skool\\SDEV-220\\Module4\n",
      "\n",
      "12/03/2024  01:20 AM    <DIR>          .\n",
      "12/03/2024  01:20 AM    <DIR>          ..\n",
      "11/23/2024  05:36 PM    <DIR>          .ipynb_checkpoints\n",
      "12/03/2024  01:20 AM             1,046 16.4-16.6.py\n",
      "11/18/2024  11:10 PM                74 books.csv\n",
      "12/03/2024  01:20 AM             8,192 books.db\n",
      "11/18/2024  11:09 PM               206 books2.csv\n",
      "11/27/2024  05:54 PM                69 lee-fawkes-sdev220-m4-django-intro.txt\n",
      "12/03/2024  12:50 AM             3,624 lfawkes-sdev220-m4-modules-and-databases.ipynb\n",
      "11/17/2024  11:56 PM    <DIR>          M4-Lab\n",
      "11/18/2024  11:02 PM    <DIR>          notes\n",
      "11/23/2024  05:36 PM                72 Untitled.ipynb\n",
      "11/17/2024  12:25 AM                41 zoo.py\n",
      "11/17/2024  12:28 AM    <DIR>          __pycache__\n",
      "               8 File(s)         13,324 bytes\n",
      "               6 Dir(s)  369,611,722,752 bytes free\n"
     ]
    }
   ],
   "source": [
    "# Demonstrating the presense of zoo.py and books.db\n",
    "import subprocess\n",
    "ret=subprocess.getoutput('dir')\n",
    "print(ret)"
   ]
  },
  {
   "cell_type": "code",
   "execution_count": 26,
   "id": "88d640b6-6364-4fa6-85d0-a43f925de94e",
   "metadata": {},
   "outputs": [
    {
     "name": "stdout",
     "output_type": "stream",
     "text": [
      "Open 9-5 daily\n"
     ]
    }
   ],
   "source": [
    "# 11.1: Create a file called zoo.py. In it, define a function called hours() that prints\n",
    "# the string \"Open 9-5 daily\". Then, use the interactive interpreter to import the zoo\n",
    "# module and call its hours() function.\n",
    "from zoo import hours\n",
    "hours()"
   ]
  },
  {
   "cell_type": "code",
   "execution_count": 28,
   "id": "2a09d3d9-534c-4c35-8f16-f661ea00a224",
   "metadata": {},
   "outputs": [
    {
     "name": "stdout",
     "output_type": "stream",
     "text": [
      "Open 9-5 daily\n"
     ]
    }
   ],
   "source": [
    "# 11.2: Import the zoo module as menagerie and call its hours() function\n",
    "import zoo as menagerie\n",
    "menagerie.hours()"
   ]
  },
  {
   "cell_type": "code",
   "execution_count": 34,
   "id": "4dc916e3-3246-41a2-a178-9c6ba9ead422",
   "metadata": {},
   "outputs": [
    {
     "name": "stdout",
     "output_type": "stream",
     "text": [
      "Perdido Street Station\n",
      "Small Gods\n",
      "The Spellman Files\n",
      "The Weirdstone of Brisingamen\n",
      "Thud!\n"
     ]
    }
   ],
   "source": [
    "# 16.8: Use the sqlalchemy module to connect to the sqlite3 database books.db that\n",
    "# you just made in exercise 16.4. As in 16.6, select and print the title column from\n",
    "# the book table in alphabetical order.\n",
    "\n",
    "import sqlalchemy as sa\n",
    "\n",
    "engine = sa.create_engine(\"sqlite:///books.db\")\n",
    "with engine.connect() as conn:\n",
    "    books = conn.execute(sa.text(\"SELECT title FROM books ORDER BY title ASC\"))\n",
    "    for row in books:\n",
    "        print(row.title)\n",
    "        \n"
   ]
  },
  {
   "cell_type": "code",
   "execution_count": null,
   "id": "0f6d585c-ba81-4b70-a083-ac2d8f892dd3",
   "metadata": {},
   "outputs": [],
   "source": []
  }
 ],
 "metadata": {
  "kernelspec": {
   "display_name": "Python 3 (ipykernel)",
   "language": "python",
   "name": "python3"
  },
  "language_info": {
   "codemirror_mode": {
    "name": "ipython",
    "version": 3
   },
   "file_extension": ".py",
   "mimetype": "text/x-python",
   "name": "python",
   "nbconvert_exporter": "python",
   "pygments_lexer": "ipython3",
   "version": "3.12.4"
  }
 },
 "nbformat": 4,
 "nbformat_minor": 5
}
